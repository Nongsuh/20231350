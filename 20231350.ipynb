{
  "nbformat": 4,
  "nbformat_minor": 0,
  "metadata": {
    "colab": {
      "provenance": []
    },
    "kernelspec": {
      "name": "python3",
      "display_name": "Python 3"
    },
    "language_info": {
      "name": "python"
    }
  },
  "cells": [
    {
      "cell_type": "markdown",
      "source": [
        "# LeetCode 225"
      ],
      "metadata": {
        "id": "dD3pblA0L8VZ"
      }
    },
    {
      "cell_type": "code",
      "execution_count": 5,
      "metadata": {
        "id": "2C8NWZyeJfXM"
      },
      "outputs": [],
      "source": [
        "class MyStack:\n",
        "\n",
        "    def __init__(self):\n",
        "        self.q1=[]\n",
        "        self.q2=[]\n",
        "\n",
        "    def push(self, x: int) -> None:\n",
        "        self.q1.append(x)\n",
        "\n",
        "    def pop(self) -> int:\n",
        "        while len(self.q1)>1:\n",
        "            self.q2.append(self.q1.pop(0))\n",
        "        value=self.q1.pop(0)\n",
        "        self.q1,self.q2=self.q2,self.q1\n",
        "        return value\n",
        "\n",
        "    def top(self) -> int:\n",
        "        while len(self.q1)>1:\n",
        "            self.q2.append(self.q1.pop(0))\n",
        "        top_val=self.q1.pop(0)\n",
        "        self.q2.append(top_val)\n",
        "        self.q1,self.q2=self.q2,self.q1\n",
        "        return top_val\n",
        "\n",
        "    def empty(self) -> bool:\n",
        "        return len(self.q1)==0\n"
      ]
    },
    {
      "cell_type": "markdown",
      "source": [
        "# LeetCode 232"
      ],
      "metadata": {
        "id": "inNEzkvcMKY1"
      }
    },
    {
      "cell_type": "code",
      "source": [
        "class MyQueue:\n",
        "\n",
        "    def __init__(self):\n",
        "        self.s1=[]\n",
        "        self.s2=[]\n",
        "\n",
        "    def push(self, x: int) -> None:\n",
        "        self.s1.append(x)\n",
        "\n",
        "    def pop(self) -> int:\n",
        "        if not self.s2:\n",
        "            while self.s1:\n",
        "                self.s2.append(self.s1.pop())\n",
        "        return self.s2.pop()\n",
        "\n",
        "    def peek(self) -> int:\n",
        "        if not self.s2:\n",
        "            while self.s1:\n",
        "                self.s2.append(self.s1.pop())\n",
        "        return self.s2[-1]\n",
        "\n",
        "    def empty(self) -> bool:\n",
        "        return not self.s1 and not self.s2\n",
        ""
      ],
      "metadata": {
        "id": "vsEArRrFJl84"
      },
      "execution_count": 6,
      "outputs": []
    },
    {
      "cell_type": "markdown",
      "source": [
        "# 연습문제 Chapter07"
      ],
      "metadata": {
        "id": "951Yt3_fMUcv"
      }
    },
    {
      "cell_type": "markdown",
      "source": [
        "## 문제1"
      ],
      "metadata": {
        "id": "aMHKRXh2NJww"
      }
    },
    {
      "cell_type": "code",
      "source": [
        "class ListQueue:\n",
        "    def __init__(self):\n",
        "        self.__queue = []\n",
        "\n",
        "    def enqueue(self, x):\n",
        "        self.__queue.insert(0, x)\n",
        "\n",
        "    def dequeue(self):\n",
        "        return self.__queue.pop(len(self.__queue)-1)\n",
        "\n",
        "    def isEmpty(self)->bool:\n",
        "        return len(self.__queue) == 0\n",
        "\n",
        "    def dequeueAll(self):\n",
        "        self.__queue.clear()"
      ],
      "metadata": {
        "id": "LTULM0b6NVcz"
      },
      "execution_count": 9,
      "outputs": []
    },
    {
      "cell_type": "markdown",
      "source": [
        "## 문제 2"
      ],
      "metadata": {
        "id": "45psuACRNYac"
      }
    },
    {
      "cell_type": "code",
      "source": [
        "class ListQueue:\n",
        "    def __init__(self):\n",
        "        self.__queue = []\n",
        "\n",
        "    def enqueue(self, x):\n",
        "        self.__queue.insert(0, x)\n",
        "\n",
        "    def dequeue(self):\n",
        "        return self.__queue.pop(len(self.__queue)-1)\n",
        "\n",
        "    def isEmpty(self)->bool:\n",
        "        return len(self.__queue) == 0\n",
        "\n",
        "    def dequeueAll(self):\n",
        "        self.__queue.clear()\n",
        "\n",
        "def check_symmetry(s:str)->bool:\n",
        "    queue = ListQueue()\n",
        "    i=0\n",
        "\n",
        "    while i < len(s) and s[i] != '$':\n",
        "        queue.enqueue(s[i])\n",
        "        i += 1\n",
        "\n",
        "    if i==len(s) or i==len(s)-1:\n",
        "        return False\n",
        "\n",
        "    i += 1\n",
        "\n",
        "    while i<len(s):\n",
        "        if queue.isEmpty():\n",
        "            return False\n",
        "        if s[i] != queue.dequeue():\n",
        "            return False\n",
        "        i += 1\n",
        "\n",
        "    return queue.isEmpty()"
      ],
      "metadata": {
        "id": "kMPJpMjVNavH"
      },
      "execution_count": 10,
      "outputs": []
    },
    {
      "cell_type": "markdown",
      "source": [
        "## 문제 3"
      ],
      "metadata": {
        "id": "tA_hW2_ENn_7"
      }
    },
    {
      "cell_type": "code",
      "source": [
        "def copyQueue(a):\n",
        "    b=LinkedQueue()\n",
        "    temp=LinkedQueue()\n",
        "\n",
        "    while not a.isEmpty():\n",
        "        item=a.dequeue()\n",
        "        b.enqueue(item)\n",
        "        temp.enqueue(item)\n",
        "\n",
        "    while not temp.isEmpty():\n",
        "        a.enqueue(temp.dequeue())\n",
        "\n",
        "    return b"
      ],
      "metadata": {
        "id": "P1pIIZlXNthA"
      },
      "execution_count": 11,
      "outputs": []
    },
    {
      "cell_type": "markdown",
      "source": [
        "## 문제 4"
      ],
      "metadata": {
        "id": "4vMFflsGNwZ8"
      }
    },
    {
      "cell_type": "code",
      "source": [
        "class StackWithQueue:\n",
        "    def __init__(self):\n",
        "        self.queue1=ListQueue()\n",
        "        self.queue2=ListQueue()\n",
        "\n",
        "    def push(self, x):\n",
        "        self.queue1.enqueue(x)\n",
        "\n",
        "    def pop(self):\n",
        "        if self.queue1.is_empty():\n",
        "            return None\n",
        "\n",
        "        while self.queue1.size() > 1:\n",
        "            self.queue2.enqueue(self.queue1.dequeue())\n",
        "\n",
        "        value= self.queue1.dequeue()\n",
        "\n",
        "        while not self.queue2.is_empty():\n",
        "            self.queue1.enqueue(self.queue2.dequeue())\n",
        "\n",
        "        return value"
      ],
      "metadata": {
        "id": "k8t5kwrqN0Re"
      },
      "execution_count": 12,
      "outputs": []
    },
    {
      "cell_type": "markdown",
      "source": [
        "## 문제 5"
      ],
      "metadata": {
        "id": "r0PZSrOzN5PA"
      }
    },
    {
      "cell_type": "code",
      "source": [
        "class StackQueue:\n",
        "    def __init__(self):\n",
        "        self.s1 = []\n",
        "        self.s2 = []\n",
        "\n",
        "    def enqueue(self, x):\n",
        "        self.s1.append(x)\n",
        "\n",
        "    def dequeue(self):\n",
        "        if not self.s2:\n",
        "            while self.s1:\n",
        "                self.s2.append(self.s1.pop())\n",
        "        if not self.s2:\n",
        "            raise IndexError(\"empty queue\")\n",
        "        return self.s2.pop()"
      ],
      "metadata": {
        "id": "qodZr9EpOBzV"
      },
      "execution_count": 13,
      "outputs": []
    },
    {
      "cell_type": "markdown",
      "source": [
        "## 문제 6"
      ],
      "metadata": {
        "id": "kviV0bL0N48i"
      }
    },
    {
      "cell_type": "markdown",
      "source": [
        "   enqueueFront()는 상수시간 O(1),\n",
        "   enqueueTail()는 상수시간 O(1),\n",
        "   dequeueFront()는 상수시간 O(1),\n",
        "   dequeueTail()는 선형시간 O(n)"
      ],
      "metadata": {
        "id": "z7Q41mvMONw4"
      }
    },
    {
      "cell_type": "markdown",
      "source": [
        "## 문제 7"
      ],
      "metadata": {
        "id": "FUMYn8dEOPhN"
      }
    },
    {
      "cell_type": "markdown",
      "source": [
        "   enqueueFront()는 상수시간 O(1),\n",
        "   enqueueTail()는 선형시간 O(n),\n",
        "   dequeueFront()는 상수시간 O(1),\n",
        "   dequeueTail()는 선형시간 O(n)\n"
      ],
      "metadata": {
        "id": "udMY-cjEOYVG"
      }
    },
    {
      "cell_type": "markdown",
      "source": [
        "## 문제 8"
      ],
      "metadata": {
        "id": "yjHBRp36Oc7K"
      }
    },
    {
      "cell_type": "code",
      "source": [
        "class Deque:\n",
        "    def __init__(self):\n",
        "        self.__queue = []\n",
        "\n",
        "    def enqueueFront(self, x):\n",
        "        self.__queue.insert(0, x)\n",
        "\n",
        "    def enqueueTail(self, x):\n",
        "        self.__queue.append(x)\n",
        "\n",
        "    def dequeueFront(self):\n",
        "        if self.isEmpty():\n",
        "            raise IndexError(\"Deque is empty\")\n",
        "        return self.__queue.pop(0)\n",
        "\n",
        "    def dequeueTail(self):\n",
        "        if self.isEmpty():\n",
        "            raise IndexError(\"Deque is empty\")\n",
        "        return self.__queue.pop()\n",
        "\n",
        "    def front(self):\n",
        "        if self.isEmpty():\n",
        "            return None\n",
        "        return self.__queue[0]\n",
        "\n",
        "    def rear(self):\n",
        "        if self.isEmpty():\n",
        "            return None\n",
        "        return self.__queue[-1]\n",
        "\n",
        "    def isEmpty(self) -> bool:\n",
        "        return len(self.__queue) == 0\n",
        "\n",
        "    def dequeueAll(self):\n",
        "        self.__queue.clear()\n",
        "\n",
        "    def printDeque(self):\n",
        "        print(\"Deque from front:\", end='')\n",
        "        for item in self.__queue:\n",
        "            print(\" \", item, end='')\n",
        "        print()"
      ],
      "metadata": {
        "id": "Wwra5XMZJruq"
      },
      "execution_count": 15,
      "outputs": []
    }
  ]
}