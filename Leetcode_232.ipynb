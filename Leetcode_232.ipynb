{
  "nbformat": 4,
  "nbformat_minor": 0,
  "metadata": {
    "colab": {
      "provenance": []
    },
    "kernelspec": {
      "name": "python3",
      "display_name": "Python 3"
    },
    "language_info": {
      "name": "python"
    }
  },
  "cells": [
    {
      "cell_type": "code",
      "execution_count": 1,
      "metadata": {
        "id": "saZLFW4tIDbm"
      },
      "outputs": [],
      "source": [
        "class MyQueue:\n",
        "\n",
        "    def __init__(self):\n",
        "        self.s1=[]\n",
        "        self.s2=[]\n",
        "\n",
        "    def push(self, x: int) -> None:\n",
        "        self.s1.append(x)\n",
        "\n",
        "    def pop(self) -> int:\n",
        "        if not self.s2:\n",
        "            while self.s1:\n",
        "                self.s2.append(self.s1.pop())\n",
        "        return self.s2.pop()\n",
        "\n",
        "    def peek(self) -> int:\n",
        "        if not self.s2:\n",
        "            while self.s1:\n",
        "                self.s2.append(self.s1.pop())\n",
        "        return self.s2[-1]\n",
        "\n",
        "    def empty(self) -> bool:\n",
        "        return not self.s1 and not self.s2\n",
        ""
      ]
    },
    {
      "cell_type": "code",
      "source": [],
      "metadata": {
        "id": "yVSuVRGSIEuF"
      },
      "execution_count": null,
      "outputs": []
    }
  ]
}