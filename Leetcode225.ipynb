{
  "nbformat": 4,
  "nbformat_minor": 0,
  "metadata": {
    "colab": {
      "provenance": []
    },
    "kernelspec": {
      "name": "python3",
      "display_name": "Python 3"
    },
    "language_info": {
      "name": "python"
    }
  },
  "cells": [
    {
      "cell_type": "code",
      "execution_count": 3,
      "metadata": {
        "id": "xItyTyyKF2o5"
      },
      "outputs": [],
      "source": [
        "class MyStack:\n",
        "\n",
        "    def __init__(self):\n",
        "        self.q1=[]\n",
        "        self.q2=[]\n",
        "\n",
        "    def push(self, x: int) -> None:\n",
        "        self.q1.append(x)\n",
        "\n",
        "    def pop(self) -> int:\n",
        "        while len(self.q1)>1:\n",
        "            self.q2.append(self.q1.pop(0))\n",
        "        value=self.q1.pop(0)\n",
        "        self.q1,self.q2=self.q2,self.q1\n",
        "        return value\n",
        "\n",
        "    def top(self) -> int:\n",
        "        while len(self.q1)>1:\n",
        "            self.q2.append(self.q1.pop(0))\n",
        "        top_val=self.q1.pop(0)\n",
        "        self.q2.append(top_val)\n",
        "        self.q1,self.q2=self.q2,self.q1\n",
        "        return top_val\n",
        "\n",
        "    def empty(self) -> bool:\n",
        "        return len(self.q1)==0\n"
      ]
    },
    {
      "cell_type": "code",
      "source": [],
      "metadata": {
        "id": "SBnaVS3zGChK"
      },
      "execution_count": null,
      "outputs": []
    }
  ]
}